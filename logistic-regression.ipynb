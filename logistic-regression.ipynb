{
 "cells": [
  {
   "cell_type": "code",
   "execution_count": 1,
   "id": "d69c2b0a",
   "metadata": {},
   "outputs": [],
   "source": [
    "from pyspark.sql import SparkSession"
   ]
  },
  {
   "cell_type": "code",
   "execution_count": 2,
   "id": "a62267de",
   "metadata": {},
   "outputs": [],
   "source": [
    "spark = SparkSession.builder.appName('mylogreq').getOrCreate()"
   ]
  },
  {
   "cell_type": "code",
   "execution_count": 3,
   "id": "b5e34df9",
   "metadata": {},
   "outputs": [],
   "source": [
    "from pyspark.ml.classification import LogisticRegression"
   ]
  },
  {
   "cell_type": "code",
   "execution_count": 4,
   "id": "26bf821e",
   "metadata": {},
   "outputs": [],
   "source": [
    "my_data = spark.read.format('libsvm').load('course-material/Spark_for_Machine_Learning/Logistic_Regression/sample_libsvm_data.txt')"
   ]
  },
  {
   "cell_type": "code",
   "execution_count": 5,
   "id": "88154d03",
   "metadata": {},
   "outputs": [
    {
     "name": "stdout",
     "output_type": "stream",
     "text": [
      "+-----+--------------------+\n",
      "|label|            features|\n",
      "+-----+--------------------+\n",
      "|  0.0|(692,[127,128,129...|\n",
      "|  1.0|(692,[158,159,160...|\n",
      "|  1.0|(692,[124,125,126...|\n",
      "|  1.0|(692,[152,153,154...|\n",
      "|  1.0|(692,[151,152,153...|\n",
      "|  0.0|(692,[129,130,131...|\n",
      "|  1.0|(692,[158,159,160...|\n",
      "|  1.0|(692,[99,100,101,...|\n",
      "|  0.0|(692,[154,155,156...|\n",
      "|  0.0|(692,[127,128,129...|\n",
      "|  1.0|(692,[154,155,156...|\n",
      "|  0.0|(692,[153,154,155...|\n",
      "|  0.0|(692,[151,152,153...|\n",
      "|  1.0|(692,[129,130,131...|\n",
      "|  0.0|(692,[154,155,156...|\n",
      "|  1.0|(692,[150,151,152...|\n",
      "|  0.0|(692,[124,125,126...|\n",
      "|  0.0|(692,[152,153,154...|\n",
      "|  1.0|(692,[97,98,99,12...|\n",
      "|  1.0|(692,[124,125,126...|\n",
      "+-----+--------------------+\n",
      "only showing top 20 rows\n",
      "\n"
     ]
    }
   ],
   "source": [
    "my_data.show()"
   ]
  },
  {
   "cell_type": "code",
   "execution_count": 6,
   "id": "4fe59d0d",
   "metadata": {},
   "outputs": [],
   "source": [
    "my_log_req_model = LogisticRegression()"
   ]
  },
  {
   "cell_type": "code",
   "execution_count": 7,
   "id": "0a79e4d0",
   "metadata": {},
   "outputs": [],
   "source": [
    "fitted_logreq = my_log_req_model.fit(my_data)"
   ]
  },
  {
   "cell_type": "code",
   "execution_count": 8,
   "id": "250b17b5",
   "metadata": {},
   "outputs": [],
   "source": [
    "log_summary = fitted_logreq.summary"
   ]
  },
  {
   "cell_type": "code",
   "execution_count": 9,
   "id": "d4c9fd87",
   "metadata": {},
   "outputs": [
    {
     "name": "stdout",
     "output_type": "stream",
     "text": [
      "root\n",
      " |-- label: double (nullable = true)\n",
      " |-- features: vector (nullable = true)\n",
      " |-- rawPrediction: vector (nullable = true)\n",
      " |-- probability: vector (nullable = true)\n",
      " |-- prediction: double (nullable = false)\n",
      "\n"
     ]
    }
   ],
   "source": [
    "log_summary.predictions.printSchema()"
   ]
  },
  {
   "cell_type": "code",
   "execution_count": 10,
   "id": "3fad808f",
   "metadata": {},
   "outputs": [],
   "source": [
    "lr_train, lr_test = my_data.randomSplit([0.7, 0.3])"
   ]
  },
  {
   "cell_type": "code",
   "execution_count": 12,
   "id": "4efe19cf",
   "metadata": {},
   "outputs": [],
   "source": [
    "logistic_reg = LogisticRegression()"
   ]
  },
  {
   "cell_type": "code",
   "execution_count": 13,
   "id": "0e758bfb",
   "metadata": {},
   "outputs": [],
   "source": [
    "fit_final = logistic_reg.fit(lr_train)"
   ]
  },
  {
   "cell_type": "code",
   "execution_count": 14,
   "id": "4c015ee3",
   "metadata": {},
   "outputs": [],
   "source": [
    "prediction_and_labels = fit_final.evaluate(lr_test)"
   ]
  },
  {
   "cell_type": "code",
   "execution_count": 15,
   "id": "3f2415aa",
   "metadata": {},
   "outputs": [
    {
     "name": "stdout",
     "output_type": "stream",
     "text": [
      "+-----+--------------------+--------------------+--------------------+----------+\n",
      "|label|            features|       rawPrediction|         probability|prediction|\n",
      "+-----+--------------------+--------------------+--------------------+----------+\n",
      "|  0.0|(692,[98,99,100,1...|[30.6210386500906...|[0.99999999999994...|       0.0|\n",
      "|  0.0|(692,[121,122,123...|[22.8550013874605...|[0.99999999988136...|       0.0|\n",
      "|  0.0|(692,[122,123,124...|[17.4186596458246...|[0.99999997276218...|       0.0|\n",
      "|  0.0|(692,[124,125,126...|[32.3358251395152...|[0.99999999999999...|       0.0|\n",
      "|  0.0|(692,[125,126,127...|[30.0170617112420...|[0.99999999999990...|       0.0|\n",
      "|  0.0|(692,[126,127,128...|[40.5498065180354...|           [1.0,0.0]|       0.0|\n",
      "|  0.0|(692,[126,127,128...|[33.7104214457075...|[0.99999999999999...|       0.0|\n",
      "|  0.0|(692,[126,127,128...|[29.5038783496285...|[0.99999999999984...|       0.0|\n",
      "|  0.0|(692,[127,128,129...|[23.4299542727746...|[0.99999999993324...|       0.0|\n",
      "|  0.0|(692,[150,151,152...|[23.9850618851178...|[0.99999999996168...|       0.0|\n",
      "|  0.0|(692,[151,152,153...|[29.7907941067045...|[0.99999999999988...|       0.0|\n",
      "|  0.0|(692,[153,154,155...|[14.8477537992688...|[0.99999964379312...|       0.0|\n",
      "|  0.0|(692,[181,182,183...|[20.8117707236090...|[0.99999999908470...|       0.0|\n",
      "|  1.0|(692,[97,98,99,12...|[-13.543505337345...|[1.31259213094455...|       1.0|\n",
      "|  1.0|(692,[119,120,121...|[-4.4132113501962...|[0.01197116134359...|       1.0|\n",
      "|  1.0|(692,[123,124,125...|[-23.599595626833...|[5.63411677482062...|       1.0|\n",
      "|  1.0|(692,[123,124,125...|[-23.081650858514...|[9.45728330089282...|       1.0|\n",
      "|  1.0|(692,[123,124,125...|[-23.271031636714...|[7.82563110947026...|       1.0|\n",
      "|  1.0|(692,[124,125,126...|[-24.588118255181...|[2.09660164100145...|       1.0|\n",
      "|  1.0|(692,[124,125,126...|[-21.485343038247...|[4.66695997718510...|       1.0|\n",
      "+-----+--------------------+--------------------+--------------------+----------+\n",
      "only showing top 20 rows\n",
      "\n"
     ]
    }
   ],
   "source": [
    "prediction_and_labels.predictions.show() "
   ]
  },
  {
   "cell_type": "code",
   "execution_count": 16,
   "id": "ea99dbd3",
   "metadata": {},
   "outputs": [],
   "source": [
    "from pyspark.ml.evaluation import BinaryClassificationEvaluator, MulticlassClassificationEvaluator"
   ]
  },
  {
   "cell_type": "code",
   "execution_count": 17,
   "id": "932fd183",
   "metadata": {},
   "outputs": [],
   "source": [
    "my_eval = BinaryClassificationEvaluator()"
   ]
  },
  {
   "cell_type": "code",
   "execution_count": 19,
   "id": "69379ce9",
   "metadata": {},
   "outputs": [],
   "source": [
    "my_final_roc = my_eval.evaluate(prediction_and_labels.predictions)"
   ]
  },
  {
   "cell_type": "code",
   "execution_count": 20,
   "id": "d2a45a4e",
   "metadata": {},
   "outputs": [
    {
     "data": {
      "text/plain": [
       "1.0"
      ]
     },
     "execution_count": 20,
     "metadata": {},
     "output_type": "execute_result"
    }
   ],
   "source": [
    "my_final_roc"
   ]
  },
  {
   "cell_type": "code",
   "execution_count": null,
   "id": "7bc6683b",
   "metadata": {},
   "outputs": [],
   "source": []
  }
 ],
 "metadata": {
  "kernelspec": {
   "display_name": "Python 3 (ipykernel)",
   "language": "python",
   "name": "python3"
  },
  "language_info": {
   "codemirror_mode": {
    "name": "ipython",
    "version": 3
   },
   "file_extension": ".py",
   "mimetype": "text/x-python",
   "name": "python",
   "nbconvert_exporter": "python",
   "pygments_lexer": "ipython3",
   "version": "3.11.0"
  }
 },
 "nbformat": 4,
 "nbformat_minor": 5
}
